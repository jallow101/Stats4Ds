{
  "nbformat": 4,
  "nbformat_minor": 0,
  "metadata": {
    "colab": {
      "provenance": [],
      "authorship_tag": "ABX9TyNIdA1N734cyHfGfD9RijEd",
      "include_colab_link": true
    },
    "kernelspec": {
      "name": "python3",
      "display_name": "Python 3"
    },
    "language_info": {
      "name": "python"
    }
  },
  "cells": [
    {
      "cell_type": "markdown",
      "metadata": {
        "id": "view-in-github",
        "colab_type": "text"
      },
      "source": [
        "<a href=\"https://colab.research.google.com/github/jallow101/Stats4Ds/blob/main/versortability.ipynb\" target=\"_parent\"><img src=\"https://colab.research.google.com/assets/colab-badge.svg\" alt=\"Open In Colab\"/></a>"
      ]
    },
    {
      "cell_type": "code",
      "execution_count": 3,
      "metadata": {
        "id": "S-1ELdDjfZiy"
      },
      "outputs": [],
      "source": [
        "#!sudo apt-get install python3.6\n",
        "#!sudo update-alternatives --install /usr/bin/python3 python3 /usr/bin/python3.6 9"
      ]
    },
    {
      "cell_type": "code",
      "source": [
        "pip install -r requirements.txt"
      ],
      "metadata": {
        "colab": {
          "base_uri": "https://localhost:8080/"
        },
        "id": "FmwfUA0Hh_Vo",
        "outputId": "928acc52-f664-46ed-90de-1ecdad50e3bc"
      },
      "execution_count": 6,
      "outputs": [
        {
          "output_type": "stream",
          "name": "stdout",
          "text": [
            "Collecting absl-py==1.3.0 (from -r requirements.txt (line 1))\n",
            "  Downloading absl_py-1.3.0-py3-none-any.whl.metadata (2.3 kB)\n",
            "Collecting aiosignal==1.2.0 (from -r requirements.txt (line 2))\n",
            "  Downloading aiosignal-1.2.0-py3-none-any.whl.metadata (5.5 kB)\n",
            "Collecting astor==0.8.1 (from -r requirements.txt (line 3))\n",
            "  Downloading astor-0.8.1-py2.py3-none-any.whl.metadata (4.2 kB)\n",
            "Collecting attrs==22.1.0 (from -r requirements.txt (line 4))\n",
            "  Downloading attrs-22.1.0-py2.py3-none-any.whl.metadata (11 kB)\n",
            "Collecting cached-property==1.5.2 (from -r requirements.txt (line 5))\n",
            "  Downloading cached_property-1.5.2-py2.py3-none-any.whl.metadata (11 kB)\n",
            "Collecting certifi==2022.9.24 (from -r requirements.txt (line 6))\n",
            "  Downloading certifi-2022.9.24-py3-none-any.whl.metadata (2.9 kB)\n",
            "Collecting charset-normalizer==2.0.12 (from -r requirements.txt (line 7))\n",
            "  Downloading charset_normalizer-2.0.12-py3-none-any.whl.metadata (11 kB)\n",
            "Collecting click==8.0.4 (from -r requirements.txt (line 8))\n",
            "  Downloading click-8.0.4-py3-none-any.whl.metadata (3.2 kB)\n",
            "Collecting distlib==0.3.6 (from -r requirements.txt (line 11))\n",
            "  Downloading distlib-0.3.6-py2.py3-none-any.whl.metadata (5.1 kB)\n",
            "Collecting filelock==3.4.1 (from -r requirements.txt (line 12))\n",
            "  Downloading filelock-3.4.1-py3-none-any.whl.metadata (2.6 kB)\n",
            "Collecting frozenlist==1.2.0 (from -r requirements.txt (line 13))\n",
            "  Downloading frozenlist-1.2.0-cp310-cp310-manylinux_2_5_x86_64.manylinux1_x86_64.manylinux_2_12_x86_64.manylinux2010_x86_64.whl.metadata (6.6 kB)\n",
            "Collecting gast==0.2.2 (from -r requirements.txt (line 14))\n",
            "  Downloading gast-0.2.2.tar.gz (10 kB)\n",
            "  Preparing metadata (setup.py) ... \u001b[?25l\u001b[?25hdone\n",
            "Collecting gitdb==4.0.9 (from -r requirements.txt (line 15))\n",
            "  Downloading gitdb-4.0.9-py3-none-any.whl.metadata (998 bytes)\n",
            "Collecting GitPython==3.1.18 (from -r requirements.txt (line 16))\n",
            "  Downloading GitPython-3.1.18-py3-none-any.whl.metadata (1.1 kB)\n",
            "Requirement already satisfied: google-pasta==0.2.0 in /usr/local/lib/python3.10/dist-packages (from -r requirements.txt (line 17)) (0.2.0)\n",
            "Collecting grpcio==1.43.0 (from -r requirements.txt (line 18))\n",
            "  Downloading grpcio-1.43.0-cp310-cp310-manylinux_2_17_x86_64.manylinux2014_x86_64.whl.metadata (4.0 kB)\n",
            "Collecting h5py==3.1.0 (from -r requirements.txt (line 19))\n",
            "  Downloading h5py-3.1.0.tar.gz (371 kB)\n",
            "\u001b[2K     \u001b[90m━━━━━━━━━━━━━━━━━━━━━━━━━━━━━━━━━━━━━━━━\u001b[0m \u001b[32m371.4/371.4 kB\u001b[0m \u001b[31m7.5 MB/s\u001b[0m eta \u001b[36m0:00:00\u001b[0m\n",
            "\u001b[?25h  Installing build dependencies ... \u001b[?25l\u001b[?25hdone\n",
            "  Getting requirements to build wheel ... \u001b[?25l\u001b[?25hdone\n",
            "  \u001b[1;31merror\u001b[0m: \u001b[1msubprocess-exited-with-error\u001b[0m\n",
            "  \n",
            "  \u001b[31m×\u001b[0m \u001b[32mpip subprocess to install backend dependencies\u001b[0m did not run successfully.\n",
            "  \u001b[31m│\u001b[0m exit code: \u001b[1;36m1\u001b[0m\n",
            "  \u001b[31m╰─>\u001b[0m See above for output.\n",
            "  \n",
            "  \u001b[1;35mnote\u001b[0m: This error originates from a subprocess, and is likely not a problem with pip.\n",
            "  Installing backend dependencies ... \u001b[?25l\u001b[?25herror\n",
            "\u001b[1;31merror\u001b[0m: \u001b[1msubprocess-exited-with-error\u001b[0m\n",
            "\n",
            "\u001b[31m×\u001b[0m \u001b[32mpip subprocess to install backend dependencies\u001b[0m did not run successfully.\n",
            "\u001b[31m│\u001b[0m exit code: \u001b[1;36m1\u001b[0m\n",
            "\u001b[31m╰─>\u001b[0m See above for output.\n",
            "\n",
            "\u001b[1;35mnote\u001b[0m: This error originates from a subprocess, and is likely not a problem with pip.\n"
          ]
        }
      ]
    },
    {
      "cell_type": "code",
      "source": [
        "!git clone https://github.com/xunzheng/notears.git"
      ],
      "metadata": {
        "colab": {
          "base_uri": "https://localhost:8080/"
        },
        "id": "KA895iuujdYg",
        "outputId": "27e10a2c-7a8e-49f1-a3a5-d8c91387cbc0"
      },
      "execution_count": 22,
      "outputs": [
        {
          "output_type": "stream",
          "name": "stdout",
          "text": [
            "Cloning into 'notears'...\n",
            "remote: Enumerating objects: 207, done.\u001b[K\n",
            "remote: Counting objects: 100% (37/37), done.\u001b[K\n",
            "remote: Compressing objects: 100% (13/13), done.\u001b[K\n",
            "remote: Total 207 (delta 27), reused 25 (delta 24), pack-reused 170 (from 1)\u001b[K\n",
            "Receiving objects: 100% (207/207), 77.79 KiB | 8.64 MiB/s, done.\n",
            "Resolving deltas: 100% (101/101), done.\n"
          ]
        }
      ]
    },
    {
      "cell_type": "code",
      "source": [
        "!python ./src/run_experiment.py"
      ],
      "metadata": {
        "colab": {
          "base_uri": "https://localhost:8080/"
        },
        "id": "XLXlG1P3iHGx",
        "outputId": "a0a08feb-7c3f-4bde-fd30-8bddb4694ae5"
      },
      "execution_count": 24,
      "outputs": [
        {
          "output_type": "stream",
          "name": "stdout",
          "text": [
            "/usr/local/lib/python3.10/dist-packages/ray/thirdparty_files\n",
            "0 COMPLETED ER-2_gauss_(0.5, 2)_(0.5, 2)_5_1000\n",
            "NOTEARSLINEAR DatasetDescription(graph='ER-2', noise='gauss', noise_variance=(0.5, 2), edge_weight_range=(0.5, 2), n_nodes=5, n_obs=1000, random_seed=0)\n",
            "+----+---------------+---------------------------------------+----------------------------+-----------+\n",
            "|    | algorithm     | dataset_description                   | start_time                 |   runtime |\n",
            "|----+---------------+---------------------------------------+----------------------------+-----------|\n",
            "|  0 | notearsLinear | ER-2_gauss_(0.5, 2)_(0.5, 2)_5_1000_0 | 2024-09-08 12:21:25.975617 |         1 |\n",
            "+----+---------------+---------------------------------------+----------------------------+-----------+\n",
            "SORTNREGRESSIC DatasetDescription(graph='ER-2', noise='gauss', noise_variance=(0.5, 2), edge_weight_range=(0.5, 2), n_nodes=5, n_obs=1000, random_seed=0)\n",
            "+----+----------------+---------------------------------------+----------------------------+-----------+\n",
            "|    | algorithm      | dataset_description                   | start_time                 |   runtime |\n",
            "|----+----------------+---------------------------------------+----------------------------+-----------|\n",
            "|  0 | sortnregressIC | ER-2_gauss_(0.5, 2)_(0.5, 2)_5_1000_0 | 2024-09-08 12:21:32.907478 |         0 |\n",
            "+----+----------------+---------------------------------------+----------------------------+-----------+\n",
            "Writing standard.csv\n",
            "Reading from src/experiments/default/default_raw/_eval/standard_0.3.csv ...\n",
            "/content/src/_Visualizer.py:102: UserWarning: min SID < 0. Likely cause: SID evaluation not implemented/active.\n",
            "  warnings.warn(message)\n",
            "0 COMPLETED ER-2_gauss_(0.5, 2)_(0.5, 2)_5_1000\n",
            "NOTEARSLINEAR DatasetDescription(graph='ER-2', noise='gauss', noise_variance=(0.5, 2), edge_weight_range=(0.5, 2), n_nodes=5, n_obs=1000, random_seed=0)\n",
            "+----+---------------+---------------------------------------+----------------------------+-----------+\n",
            "|    | algorithm     | dataset_description                   | start_time                 |   runtime |\n",
            "|----+---------------+---------------------------------------+----------------------------+-----------|\n",
            "|  0 | notearsLinear | ER-2_gauss_(0.5, 2)_(0.5, 2)_5_1000_0 | 2024-09-08 12:21:50.171804 |         3 |\n",
            "+----+---------------+---------------------------------------+----------------------------+-----------+\n",
            "SORTNREGRESSIC DatasetDescription(graph='ER-2', noise='gauss', noise_variance=(0.5, 2), edge_weight_range=(0.5, 2), n_nodes=5, n_obs=1000, random_seed=0)\n",
            "+----+----------------+---------------------------------------+----------------------------+-----------+\n",
            "|    | algorithm      | dataset_description                   | start_time                 |   runtime |\n",
            "|----+----------------+---------------------------------------+----------------------------+-----------|\n",
            "|  0 | sortnregressIC | ER-2_gauss_(0.5, 2)_(0.5, 2)_5_1000_0 | 2024-09-08 12:21:57.265461 |         0 |\n",
            "+----+----------------+---------------------------------------+----------------------------+-----------+\n",
            "Writing standard.csv\n",
            "Reading from src/experiments/default/default_normalized/_eval/standard_0.3.csv ...\n",
            "/content/src/_Visualizer.py:102: UserWarning: min SID < 0. Likely cause: SID evaluation not implemented/active.\n",
            "  warnings.warn(message)\n",
            "Reading from src/experiments/default/default_raw/_eval/standard_0.3.csv ...\n",
            "Reading from src/experiments/default/default_normalized/_eval/standard_0.3.csv ...\n",
            "...merging across experiments into standard_0.3\n"
          ]
        }
      ]
    },
    {
      "cell_type": "code",
      "source": [],
      "metadata": {
        "id": "4gAFXYsDjSGn"
      },
      "execution_count": null,
      "outputs": []
    }
  ]
}